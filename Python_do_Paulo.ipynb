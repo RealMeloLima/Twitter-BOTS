{
  "nbformat": 4,
  "nbformat_minor": 0,
  "metadata": {
    "colab": {
      "name": "Python do Paulo",
      "provenance": [],
      "collapsed_sections": [],
      "authorship_tag": "ABX9TyPPFoXgLS0FTaCRawrJSq57",
      "include_colab_link": true
    },
    "kernelspec": {
      "name": "python3",
      "display_name": "Python 3"
    }
  },
  "cells": [
    {
      "cell_type": "markdown",
      "metadata": {
        "id": "view-in-github",
        "colab_type": "text"
      },
      "source": [
        "<a href=\"https://colab.research.google.com/github/RealMeloLima/Twitter-BOTS/blob/main/Python_do_Paulo.ipynb\" target=\"_parent\"><img src=\"https://colab.research.google.com/assets/colab-badge.svg\" alt=\"Open In Colab\"/></a>"
      ]
    },
    {
      "cell_type": "code",
      "metadata": {
        "id": "pNavCxaidl0C"
      },
      "source": [
        "n1 = float(input('Digite tua primeira nota:'))\r\n",
        "n2 = float(input('Digite tua segunda nota:'))\r\n",
        "m = (n1 + n2) / 2\r\n",
        "if 10 > m >= 7:\r\n",
        "  print('Aluno aprovado com média' , m)\r\n",
        "if m < 7:\r\n",
        "  print('Aluno reprovado com média', m)\r\n",
        "if m == 10:\r\n",
        "  print('Aluno aprovado com média perfeita')"
      ],
      "execution_count": null,
      "outputs": []
    },
    {
      "cell_type": "code",
      "metadata": {
        "id": "sX3FahWMqa03"
      },
      "source": [
        "print('Digite um número, e eu direi se é positivo ou negativo')\r\n",
        "n = int(input('Escolha o número:'))\r\n",
        "if n >= 0:\r\n",
        "  print('O número escolhido é positivo')\r\n",
        "if n < 0:\r\n",
        "  print('O número escolhido é negativo')"
      ],
      "execution_count": null,
      "outputs": []
    },
    {
      "cell_type": "code",
      "metadata": {
        "id": "Ks1sxBFirkI_"
      },
      "source": [
        "print('Escolha três nuúmeros, e eu direi o maior e o menor')\r\n",
        "n1 = input('Insira um número:')\r\n",
        "n2 = input('Insira outro número:')\r\n",
        "n3 = input('Insira mais um número:')\r\n",
        "if n1 > n2 > n3:\r\n",
        "  print(n1 , 'é o maior número, e' , n3 , ' o menor número')\r\n",
        "if n1 > n3 > n2:\r\n",
        "  print(n1 , 'é o maior número, e' , n2 , 'o menor número')\r\n",
        "if n2 > n1 > n3:\r\n",
        "  print(n2 , 'é o maior número, e' , n3 , ' o menor ')\r\n",
        "if n2 > n3 > n1:\r\n",
        "  print(n2 , 'é o maior número, e' , n1 ,'o menor')\r\n",
        "if n3 > n2 > n1:\r\n",
        "  print(n3 , 'é o maior número, e' , n1 , 'o menor')\r\n",
        "if n3 > n1 > n2:\r\n",
        "  print(n3 , 'é o maior número, e' , n2 , 'o menor')\r\n"
      ],
      "execution_count": null,
      "outputs": []
    },
    {
      "cell_type": "code",
      "metadata": {
        "id": "UoL-Yx5pyl84"
      },
      "source": [
        "n1 = int(input('Escolha um número de zero à dez:'))\r\n",
        "if 0 <= n1 <= 10:\r\n",
        "  print('Parabéns! Você sabe ler')\r\n",
        "if 0 > n1 or 10 < n1:\r\n",
        "  print('Você insiriu um valor inválido')\r\n",
        "  n2 = int(input('Tente de novo:'))\r\n",
        "  if 0 <= n2 <= 10:\r\n",
        "    print('Finalmente')\r\n",
        "  if n2 < 0 or n2 > 10:\r\n",
        "    print('Você só pode estar de sacanagem comigo.')\r\n",
        "    n3 = int(input('Insira um valor válido, esta é a última chance:'))\r\n",
        "    if 0 <= n3 <= 10:\r\n",
        "      print('Finalmente, eu já estava perdendo a paciência')\r\n",
        "    if n3 < 0 or n3 > 10:\r\n",
        "     print('Eu desisto de você, humano')\r\n",
        "print('INTERAÇÃO COM HUMANO ENCERRADA')\r\n",
        "    "
      ],
      "execution_count": null,
      "outputs": []
    },
    {
      "cell_type": "code",
      "metadata": {
        "id": "zlBnujtyez3t"
      },
      "source": [
        "from time import sleep\r\n",
        "print('Calculadora P 0.1')\r\n",
        "sleep(1)\r\n",
        "print('Está calculadore resolve: Soma, subtração, multiplicação, divisão, radiciação e potenciação')\r\n",
        "sleep(2)\r\n",
        "while True:\r\n",
        "  c = str(input('Qual cálculo você gostaria de realizar ? '))\r\n",
        "  c = c.lower()\r\n",
        "  if c == 'soma':\r\n",
        "    so1 = float(input('Insira o primeiro valor:'))\r\n",
        "    so2 = float(input('Insira o outro valor:'))\r\n",
        "    print( so1 + so2)\r\n",
        "    break\r\n",
        "  if c == 'subtração':\r\n",
        "    su1 = float(input('Insira o primeiro valor'))\r\n",
        "    su2 = float(input('Insira o segundo valor'))\r\n",
        "    print(su1 - su2)\r\n",
        "    break\r\n",
        "  if c == 'multiplicação':\r\n",
        "    m1 = float(input('Insira o primeiro valor:'))\r\n",
        "    m2 = float(input('Insira o outro valor:'))\r\n",
        "    print( m1 * m2)\r\n",
        "    break\r\n",
        "  if c == 'divisão':\r\n",
        "    d1 = float(input('Insira o primeiro valor:'))\r\n",
        "    d2 = float(input('Insira o outro valor:'))\r\n",
        "    print( d1 / d2)\r\n",
        "    break\r\n",
        "  if c == 'radiciação':\r\n",
        "    r1 = float(input('Insira o primeiro valor:'))\r\n",
        "    r2 = float(input('Insira o outro valor:'))\r\n",
        "    print( r1 ** (1/r2))  \r\n",
        "    break\r\n",
        "  if c == 'potenciação':\r\n",
        "    p1 = float(input('Insira o primeiro valor:'))\r\n",
        "    p2 = float(input('Insira o outro valor:'))\r\n",
        "    print( p1 ** p2)  \r\n",
        "    break\r\n",
        "  "
      ],
      "execution_count": null,
      "outputs": []
    },
    {
      "cell_type": "code",
      "metadata": {
        "id": "IeriHIHJL97W"
      },
      "source": [
        "import random\r\n",
        "from time import sleep \r\n",
        "\r\n",
        "print('Vamos brincar com a sorte')\r\n",
        "def gera():\r\n",
        "  return(1,100)\r\n",
        "n\r\n"
      ],
      "execution_count": null,
      "outputs": []
    },
    {
      "cell_type": "code",
      "metadata": {
        "id": "2F08itcqD1X4"
      },
      "source": [
        "#PIECK FINGER WORLD DOMINATION\r\n",
        "import tweepy\r\n",
        "import time\r\n",
        "\r\n",
        "auth = tweepy.OAuthHandler('7VHduwyhwIicYes6ZAzF1wOmQ','5eQ2g9H58Y9dl0L2UNPEuP2FhtIbLbHn9SetklIlJwpU8TpMcp')\r\n",
        "auth.set_access_token('1369256466146881538-LPeGXWhMMiQ1tYzHYvSMdvEU7MV7sM', 'd82aM7EnLFgtXWNBTQjYC7T5nkCKlXpiy0IjuBygXYItw')\r\n",
        "\r\n",
        "\r\n",
        "api = tweepy.API(auth, wait_on_rate_limit=True, wait_on_rate_limit_notify=True)\r\n",
        "\r\n",
        "user = api.me()\r\n",
        "\r\n",
        "search = 'Pieck love'\r\n",
        "numeroDeTweets = 100\r\n",
        "\r\n",
        "for tweet in tweepy.Cursor(api.search, search).items(numeroDeTweets):\r\n",
        "    try:\r\n",
        "        print('tweet retuitado e favoritado')\r\n",
        "        tweet.retweet()\r\n",
        "        tweet.favorite()\r\n",
        "        time.sleep(10)\r\n",
        "    except tweepy.TweepError as e:\r\n",
        "        print(e.reason)\r\n",
        "    except StopIteration:\r\n",
        "        break"
      ],
      "execution_count": null,
      "outputs": []
    },
    {
      "cell_type": "code",
      "metadata": {
        "id": "aQZGFaccgSXF"
      },
      "source": [
        "from time impor sleep\r\n",
        "import tweepy\r\n",
        "\r\n",
        "auth = tweepy.OAuthHandler('7VHduwyhwIicYes6ZAzF1wOmQ','5eQ2g9H58Y9dl0L2UNPEuP2FhtIbLbHn9SetklIlJwpU8TpMcp')\r\n",
        "auth.set_access_token('1369256466146881538-LPeGXWhMMiQ1tYzHYvSMdvEU7MV7sM', 'd82aM7EnLFgtXWNBTQjYC7T5nkCKlXpiy0IjuBygXYItw')\r\n",
        "\r\n",
        "\r\n",
        "api = tweepy.API(auth, wait_on_rate_limit=True, wait_on_rate_limit_notify=True)\r\n",
        "\r\n",
        "user = api.me()\r\n",
        "\r\n",
        "search = 'Isatoro'\r\n",
        "numeroDeTweets = 10\r\n",
        "\r\n",
        "for tweet in tweepy.Cursor(api.search, search).items(numeroDeTweets):\r\n",
        "    try:\r\n",
        "        print('tweet retuitado e favoritado')\r\n",
        "        tweet.reply()\r\n",
        "        tweet.favorite()\r\n",
        "        time.sleep(10)\r\n",
        "    except tweepy.TweepError as e:\r\n",
        "        print(e.reason)\r\n",
        "    except StopIteration:\r\n",
        "        break"
      ],
      "execution_count": null,
      "outputs": []
    }
  ]
}