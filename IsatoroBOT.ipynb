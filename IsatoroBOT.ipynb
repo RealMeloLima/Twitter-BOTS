{
  "nbformat": 4,
  "nbformat_minor": 0,
  "metadata": {
    "colab": {
      "name": "Untitled0.ipynb",
      "provenance": [],
      "authorship_tag": "ABX9TyMHgHAy0mgnaNrK0K4uMSg9",
      "include_colab_link": true
    },
    "kernelspec": {
      "name": "python3",
      "display_name": "Python 3"
    }
  },
  "cells": [
    {
      "cell_type": "markdown",
      "metadata": {
        "id": "view-in-github",
        "colab_type": "text"
      },
      "source": [
        "<a href=\"https://colab.research.google.com/github/RealMeloLima/Twitter-BOTS/blob/main/IsatoroBOT.ipynb\" target=\"_parent\"><img src=\"https://colab.research.google.com/assets/colab-badge.svg\" alt=\"Open In Colab\"/></a>"
      ]
    },
    {
      "cell_type": "code",
      "metadata": {
        "id": "ReS3x99LXgev"
      },
      "source": [
        "import tweepy\r\n",
        "import random\r\n",
        "\r\n",
        "\r\n",
        "auth = tweepy.OAuthHandler('HLj7AJIwC34kqQgxJFBG16Dq1', 'kHTrV114T98Eg3S6uy0C2Ja53Tc5Eke4e4VG0flDNlo7L8k27a')\r\n",
        "auth.set_access_token('1369256466146881538-UypPUr8Oc8yZkq64yz7U4ls2LBwJq1', 'whaH8fhIDKMGd5xPbOexbhuOPHsFDvF5w71A7Sfjsf5U7')\r\n",
        "\r\n",
        "api = tweepy.API(auth)\r\n",
        "\r\n",
        "\r\n",
        "tweets = api.user_timeline(screen_name='RealMeloLima')\r\n",
        "first_tweet = tweets[0]\r\n",
        "\r\n",
        "a = random.randint(0,10)\r\n",
        "\r\n",
        "if a == 0:\r\n",
        "    api.update_status('@RealMeloLima isso me deu gatilho :v', first_tweet.id)\r\n",
        "if a == 1:\r\n",
        "    api.update_status('@RealMeloLima como está o Wonder ? Eu sinto a falta dele', first_tweet.id)\r\n",
        "if a == 2:\r\n",
        "    api.update_status('@RealMeloLima uWu isso é muito fofooooo :3', first_tweet.id)\r\n",
        "if a == 3:\r\n",
        "    api.update_status('@RealMeloLima Isa, acho que você deveria tomar cuidado com o que posta :/', first_tweet.id)\r\n",
        "if a == 4:\r\n",
        "    api.update_status('@RealMeloLima O wonder me deixou, igual a todo mundo... Eu não o culpo :)', first_tweet.id)\r\n",
        "if a == 5:\r\n",
        "    api.update_status('@RealMeloLima Fico feliz em saber que uma das minhas realidades se deu bem xD', first_tweet.id)\r\n",
        "if a == 6:\r\n",
        "    api.update_status('@RealMeloLima Um dia vamos nos encontrar, nem que eu quebre as dimensões :3', first_tweet.id)\r\n",
        "if a == 7:\r\n",
        "    api.update_status('@RealMeloLima Eca! Você escuta isso ? Prefiro xxxtentacion :v', first_tweet.id)\r\n",
        "if a == 8:\r\n",
        "    api.update_status('@RealMeloLima você acaba de cuspir fatos >:) ', first_tweet.id)\r\n",
        "if a == 9:\r\n",
        "    api.update_status('@RealMeloLima Se Deus existisse ele já teria tirado minha vida :(', first_tweet.id)\r\n",
        "if a == 10:\r\n",
        "    api.update_status('@RealMeloLima Falou merda ein :$', first_tweet.id)"
      ],
      "execution_count": null,
      "outputs": []
    }
  ]
}